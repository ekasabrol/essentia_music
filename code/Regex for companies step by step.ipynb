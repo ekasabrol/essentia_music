{
 "cells": [
  {
   "cell_type": "code",
   "execution_count": 1,
   "id": "1d3ec03e",
   "metadata": {},
   "outputs": [],
   "source": [
    "import pandas as pd\n",
    "from google.cloud import bigquery\n",
    "import os\n",
    "import re\n",
    "os.environ['GOOGLE_APPLICATION_CREDENTIALS'] = '/Users/sanjamekas/Documents/ekas.json'"
   ]
  },
  {
   "cell_type": "code",
   "execution_count": 2,
   "id": "1dc0c0ed",
   "metadata": {},
   "outputs": [],
   "source": [
    "bigquery_client = bigquery.Client(project='switch-vc')"
   ]
  },
  {
   "cell_type": "markdown",
   "id": "a109abb2",
   "metadata": {},
   "source": [
    "### getting the dataset"
   ]
  },
  {
   "cell_type": "code",
   "execution_count": 190,
   "id": "6627f253",
   "metadata": {},
   "outputs": [
    {
     "name": "stdout",
     "output_type": "stream",
     "text": [
      "37577\n"
     ]
    },
    {
     "data": {
      "text/html": [
       "<div>\n",
       "<style scoped>\n",
       "    .dataframe tbody tr th:only-of-type {\n",
       "        vertical-align: middle;\n",
       "    }\n",
       "\n",
       "    .dataframe tbody tr th {\n",
       "        vertical-align: top;\n",
       "    }\n",
       "\n",
       "    .dataframe thead th {\n",
       "        text-align: right;\n",
       "    }\n",
       "</style>\n",
       "<table border=\"1\" class=\"dataframe\">\n",
       "  <thead>\n",
       "    <tr style=\"text-align: right;\">\n",
       "      <th></th>\n",
       "      <th>uuid</th>\n",
       "      <th>company_name</th>\n",
       "      <th>category_list</th>\n",
       "      <th>category_group_list</th>\n",
       "    </tr>\n",
       "  </thead>\n",
       "  <tbody>\n",
       "    <tr>\n",
       "      <th>0</th>\n",
       "      <td>42d1a741-ef81-9caf-dfee-281c9451b06e</td>\n",
       "      <td>Optaros</td>\n",
       "      <td>e-commerce|information technology|open source|...</td>\n",
       "      <td>apps|commerce and shopping|information technol...</td>\n",
       "    </tr>\n",
       "    <tr>\n",
       "      <th>1</th>\n",
       "      <td>4cc6fe8d-3a2b-c327-e008-69024ecb95a2</td>\n",
       "      <td>Rapid Micro Biosystems</td>\n",
       "      <td>biotechnology|manufacturing|pharmaceutical</td>\n",
       "      <td>biotechnology|health care|manufacturing|scienc...</td>\n",
       "    </tr>\n",
       "    <tr>\n",
       "      <th>2</th>\n",
       "      <td>42719ae6-8a13-c91d-c812-2eeb1bf6d356</td>\n",
       "      <td>SweetLabs</td>\n",
       "      <td>android|software|web apps</td>\n",
       "      <td>apps|mobile|platforms|software</td>\n",
       "    </tr>\n",
       "    <tr>\n",
       "      <th>3</th>\n",
       "      <td>36aab34c-1cb1-e96d-2e5a-e298d147909c</td>\n",
       "      <td>Caviar</td>\n",
       "      <td>food and beverage|food delivery|hospitality</td>\n",
       "      <td>food and beverage|transportation|travel and to...</td>\n",
       "    </tr>\n",
       "    <tr>\n",
       "      <th>4</th>\n",
       "      <td>074f4754-6ee9-b81f-decd-14675f244ef5</td>\n",
       "      <td>Klout</td>\n",
       "      <td>analytics|internet|social media</td>\n",
       "      <td>data and analytics|internet services|media and...</td>\n",
       "    </tr>\n",
       "  </tbody>\n",
       "</table>\n",
       "</div>"
      ],
      "text/plain": [
       "                                   uuid            company_name  \\\n",
       "0  42d1a741-ef81-9caf-dfee-281c9451b06e                 Optaros   \n",
       "1  4cc6fe8d-3a2b-c327-e008-69024ecb95a2  Rapid Micro Biosystems   \n",
       "2  42719ae6-8a13-c91d-c812-2eeb1bf6d356               SweetLabs   \n",
       "3  36aab34c-1cb1-e96d-2e5a-e298d147909c                  Caviar   \n",
       "4  074f4754-6ee9-b81f-decd-14675f244ef5                   Klout   \n",
       "\n",
       "                                       category_list  \\\n",
       "0  e-commerce|information technology|open source|...   \n",
       "1         biotechnology|manufacturing|pharmaceutical   \n",
       "2                          android|software|web apps   \n",
       "3        food and beverage|food delivery|hospitality   \n",
       "4                    analytics|internet|social media   \n",
       "\n",
       "                                 category_group_list  \n",
       "0  apps|commerce and shopping|information technol...  \n",
       "1  biotechnology|health care|manufacturing|scienc...  \n",
       "2                     apps|mobile|platforms|software  \n",
       "3  food and beverage|transportation|travel and to...  \n",
       "4  data and analytics|internet services|media and...  "
      ]
     },
     "execution_count": 190,
     "metadata": {},
     "output_type": "execute_result"
    }
   ],
   "source": [
    "query =\"\"\"\n",
    "SELECT  \n",
    "   A.uuid, A.company_name, A.category_list, A.category_group_list\n",
    "FROM\n",
    "  `switch-vc.founder_crunchbase.organizations` AS A\n",
    "INNER JOIN\n",
    "  `switch-vc.analysis.cb_orgs_final_selected_v2` AS B\n",
    "ON\n",
    "  A.uuid = B.cb_uuid\n",
    "\"\"\"\n",
    "\n",
    "query_job = bigquery_client.query(query)\n",
    "df = query_job.to_dataframe()\n",
    "print(len(df))\n",
    "df.head()"
   ]
  },
  {
   "cell_type": "code",
   "execution_count": 5,
   "id": "5bc400c2",
   "metadata": {},
   "outputs": [
    {
     "data": {
      "text/plain": [
       "'biotechnology|manufacturing|pharmaceutical'"
      ]
     },
     "execution_count": 5,
     "metadata": {},
     "output_type": "execute_result"
    }
   ],
   "source": [
    "df.category_list[1]"
   ]
  },
  {
   "cell_type": "markdown",
   "id": "e36ef187",
   "metadata": {},
   "source": [
    "### Traditional OLD WAY OF DOING THINGS"
   ]
  },
  {
   "cell_type": "code",
   "execution_count": 212,
   "id": "5f2b695b",
   "metadata": {},
   "outputs": [
    {
     "name": "stdout",
     "output_type": "stream",
     "text": [
      "6981\n"
     ]
    }
   ],
   "source": [
    "org = ['health','pharma','thera','bio','medic','life science']\n",
    "lis = []\n",
    "for i in range(len(df)):\n",
    "    try:\n",
    "        for j in org:\n",
    "            if j in df.category_list[i]:\n",
    "                if i not in lis:\n",
    "                    lis.append(i)\n",
    "    except:\n",
    "        pass\n",
    "print(len(lis))"
   ]
  },
  {
   "cell_type": "code",
   "execution_count": 213,
   "id": "f7b5de84",
   "metadata": {},
   "outputs": [],
   "source": [
    "df1 = df.loc[lis]"
   ]
  },
  {
   "cell_type": "code",
   "execution_count": 214,
   "id": "cfdbe7b1",
   "metadata": {},
   "outputs": [
    {
     "data": {
      "text/html": [
       "<div>\n",
       "<style scoped>\n",
       "    .dataframe tbody tr th:only-of-type {\n",
       "        vertical-align: middle;\n",
       "    }\n",
       "\n",
       "    .dataframe tbody tr th {\n",
       "        vertical-align: top;\n",
       "    }\n",
       "\n",
       "    .dataframe thead th {\n",
       "        text-align: right;\n",
       "    }\n",
       "</style>\n",
       "<table border=\"1\" class=\"dataframe\">\n",
       "  <thead>\n",
       "    <tr style=\"text-align: right;\">\n",
       "      <th></th>\n",
       "      <th>uuid</th>\n",
       "      <th>company_name</th>\n",
       "      <th>category_list</th>\n",
       "      <th>category_group_list</th>\n",
       "    </tr>\n",
       "  </thead>\n",
       "  <tbody>\n",
       "    <tr>\n",
       "      <th>0</th>\n",
       "      <td>4cc6fe8d-3a2b-c327-e008-69024ecb95a2</td>\n",
       "      <td>Rapid Micro Biosystems</td>\n",
       "      <td>biotechnology|manufacturing|pharmaceutical</td>\n",
       "      <td>biotechnology|health care|manufacturing|scienc...</td>\n",
       "    </tr>\n",
       "    <tr>\n",
       "      <th>1</th>\n",
       "      <td>a0420895-9b5d-4098-25f0-376dadd054a7</td>\n",
       "      <td>ModernCare</td>\n",
       "      <td>health care|medical|travel</td>\n",
       "      <td>health care|travel and tourism</td>\n",
       "    </tr>\n",
       "    <tr>\n",
       "      <th>2</th>\n",
       "      <td>66d1bf52-3753-4e40-74b0-2d0b86be12e3</td>\n",
       "      <td>Foldax</td>\n",
       "      <td>developer platform|manufacturing|medical device</td>\n",
       "      <td>health care|manufacturing|software</td>\n",
       "    </tr>\n",
       "    <tr>\n",
       "      <th>3</th>\n",
       "      <td>ddaacf7b-1fa1-ea57-75d2-c48bda98de28</td>\n",
       "      <td>Loop Genomics</td>\n",
       "      <td>biotechnology|genetics|information technology|...</td>\n",
       "      <td>biotechnology|health care|information technolo...</td>\n",
       "    </tr>\n",
       "    <tr>\n",
       "      <th>4</th>\n",
       "      <td>a2bc50f6-9fb1-5d37-5a31-84d0b9d697e9</td>\n",
       "      <td>Twentyeight-Seven</td>\n",
       "      <td>biotechnology|developer platform|therapeutics</td>\n",
       "      <td>biotechnology|health care|science and engineer...</td>\n",
       "    </tr>\n",
       "  </tbody>\n",
       "</table>\n",
       "</div>"
      ],
      "text/plain": [
       "                                   uuid            company_name  \\\n",
       "0  4cc6fe8d-3a2b-c327-e008-69024ecb95a2  Rapid Micro Biosystems   \n",
       "1  a0420895-9b5d-4098-25f0-376dadd054a7              ModernCare   \n",
       "2  66d1bf52-3753-4e40-74b0-2d0b86be12e3                  Foldax   \n",
       "3  ddaacf7b-1fa1-ea57-75d2-c48bda98de28           Loop Genomics   \n",
       "4  a2bc50f6-9fb1-5d37-5a31-84d0b9d697e9       Twentyeight-Seven   \n",
       "\n",
       "                                       category_list  \\\n",
       "0         biotechnology|manufacturing|pharmaceutical   \n",
       "1                         health care|medical|travel   \n",
       "2    developer platform|manufacturing|medical device   \n",
       "3  biotechnology|genetics|information technology|...   \n",
       "4      biotechnology|developer platform|therapeutics   \n",
       "\n",
       "                                 category_group_list  \n",
       "0  biotechnology|health care|manufacturing|scienc...  \n",
       "1                     health care|travel and tourism  \n",
       "2                 health care|manufacturing|software  \n",
       "3  biotechnology|health care|information technolo...  \n",
       "4  biotechnology|health care|science and engineer...  "
      ]
     },
     "execution_count": 214,
     "metadata": {},
     "output_type": "execute_result"
    }
   ],
   "source": [
    "df1 = df1.reset_index()\n",
    "df1 = df1.drop(['index'],axis=1)\n",
    "df1.head()"
   ]
  },
  {
   "cell_type": "markdown",
   "id": "5d50f04c",
   "metadata": {},
   "source": [
    "# CORRECT REGEX"
   ]
  },
  {
   "cell_type": "code",
   "execution_count": 223,
   "id": "b6c18243",
   "metadata": {},
   "outputs": [],
   "source": [
    "org = ['health','pharma','thera','bio','medic','life science']\n",
    "d = []\n",
    "for j in range(len(df)):\n",
    "    a = df.category_list[j]\n",
    "    li = []\n",
    "    try:\n",
    "        for i in org:\n",
    "            pattern = re.compile(r\"^.*\"+i+\"+\")\n",
    "            match = pattern.findall(a)\n",
    "            if len(match)!=0:\n",
    "                li.append(match)\n",
    "\n",
    "        list1 = max(li)\n",
    "        str1 = ''.join(list1)\n",
    "        final = str1.split('|')\n",
    "        d.append(j)\n",
    "    \n",
    "    except:\n",
    "        pass"
   ]
  },
  {
   "cell_type": "code",
   "execution_count": 224,
   "id": "1ce7cc05",
   "metadata": {},
   "outputs": [
    {
     "data": {
      "text/plain": [
       "6981"
      ]
     },
     "execution_count": 224,
     "metadata": {},
     "output_type": "execute_result"
    }
   ],
   "source": [
    "len(d)"
   ]
  },
  {
   "cell_type": "code",
   "execution_count": 194,
   "id": "10853ef5",
   "metadata": {},
   "outputs": [],
   "source": [
    "df2 = df.loc[d]"
   ]
  },
  {
   "cell_type": "code",
   "execution_count": 195,
   "id": "d8c567f7",
   "metadata": {},
   "outputs": [
    {
     "data": {
      "text/html": [
       "<div>\n",
       "<style scoped>\n",
       "    .dataframe tbody tr th:only-of-type {\n",
       "        vertical-align: middle;\n",
       "    }\n",
       "\n",
       "    .dataframe tbody tr th {\n",
       "        vertical-align: top;\n",
       "    }\n",
       "\n",
       "    .dataframe thead th {\n",
       "        text-align: right;\n",
       "    }\n",
       "</style>\n",
       "<table border=\"1\" class=\"dataframe\">\n",
       "  <thead>\n",
       "    <tr style=\"text-align: right;\">\n",
       "      <th></th>\n",
       "      <th>uuid</th>\n",
       "      <th>company_name</th>\n",
       "      <th>category_list</th>\n",
       "      <th>category_group_list</th>\n",
       "    </tr>\n",
       "  </thead>\n",
       "  <tbody>\n",
       "    <tr>\n",
       "      <th>1</th>\n",
       "      <td>4cc6fe8d-3a2b-c327-e008-69024ecb95a2</td>\n",
       "      <td>Rapid Micro Biosystems</td>\n",
       "      <td>biotechnology|manufacturing|pharmaceutical</td>\n",
       "      <td>biotechnology|health care|manufacturing|scienc...</td>\n",
       "    </tr>\n",
       "    <tr>\n",
       "      <th>21</th>\n",
       "      <td>a0420895-9b5d-4098-25f0-376dadd054a7</td>\n",
       "      <td>ModernCare</td>\n",
       "      <td>health care|medical|travel</td>\n",
       "      <td>health care|travel and tourism</td>\n",
       "    </tr>\n",
       "    <tr>\n",
       "      <th>22</th>\n",
       "      <td>66d1bf52-3753-4e40-74b0-2d0b86be12e3</td>\n",
       "      <td>Foldax</td>\n",
       "      <td>developer platform|manufacturing|medical device</td>\n",
       "      <td>health care|manufacturing|software</td>\n",
       "    </tr>\n",
       "    <tr>\n",
       "      <th>46</th>\n",
       "      <td>ddaacf7b-1fa1-ea57-75d2-c48bda98de28</td>\n",
       "      <td>Loop Genomics</td>\n",
       "      <td>biotechnology|genetics|information technology|...</td>\n",
       "      <td>biotechnology|health care|information technolo...</td>\n",
       "    </tr>\n",
       "    <tr>\n",
       "      <th>57</th>\n",
       "      <td>a2bc50f6-9fb1-5d37-5a31-84d0b9d697e9</td>\n",
       "      <td>Twentyeight-Seven</td>\n",
       "      <td>biotechnology|developer platform|therapeutics</td>\n",
       "      <td>biotechnology|health care|science and engineer...</td>\n",
       "    </tr>\n",
       "  </tbody>\n",
       "</table>\n",
       "</div>"
      ],
      "text/plain": [
       "                                    uuid            company_name  \\\n",
       "1   4cc6fe8d-3a2b-c327-e008-69024ecb95a2  Rapid Micro Biosystems   \n",
       "21  a0420895-9b5d-4098-25f0-376dadd054a7              ModernCare   \n",
       "22  66d1bf52-3753-4e40-74b0-2d0b86be12e3                  Foldax   \n",
       "46  ddaacf7b-1fa1-ea57-75d2-c48bda98de28           Loop Genomics   \n",
       "57  a2bc50f6-9fb1-5d37-5a31-84d0b9d697e9       Twentyeight-Seven   \n",
       "\n",
       "                                        category_list  \\\n",
       "1          biotechnology|manufacturing|pharmaceutical   \n",
       "21                         health care|medical|travel   \n",
       "22    developer platform|manufacturing|medical device   \n",
       "46  biotechnology|genetics|information technology|...   \n",
       "57      biotechnology|developer platform|therapeutics   \n",
       "\n",
       "                                  category_group_list  \n",
       "1   biotechnology|health care|manufacturing|scienc...  \n",
       "21                     health care|travel and tourism  \n",
       "22                 health care|manufacturing|software  \n",
       "46  biotechnology|health care|information technolo...  \n",
       "57  biotechnology|health care|science and engineer...  "
      ]
     },
     "execution_count": 195,
     "metadata": {},
     "output_type": "execute_result"
    }
   ],
   "source": [
    "df2.head()"
   ]
  },
  {
   "cell_type": "code",
   "execution_count": 196,
   "id": "eb912929",
   "metadata": {},
   "outputs": [
    {
     "data": {
      "text/html": [
       "<div>\n",
       "<style scoped>\n",
       "    .dataframe tbody tr th:only-of-type {\n",
       "        vertical-align: middle;\n",
       "    }\n",
       "\n",
       "    .dataframe tbody tr th {\n",
       "        vertical-align: top;\n",
       "    }\n",
       "\n",
       "    .dataframe thead th {\n",
       "        text-align: right;\n",
       "    }\n",
       "</style>\n",
       "<table border=\"1\" class=\"dataframe\">\n",
       "  <thead>\n",
       "    <tr style=\"text-align: right;\">\n",
       "      <th></th>\n",
       "      <th>uuid</th>\n",
       "      <th>company_name</th>\n",
       "      <th>category_list</th>\n",
       "      <th>category_group_list</th>\n",
       "    </tr>\n",
       "  </thead>\n",
       "  <tbody>\n",
       "    <tr>\n",
       "      <th>0</th>\n",
       "      <td>4cc6fe8d-3a2b-c327-e008-69024ecb95a2</td>\n",
       "      <td>Rapid Micro Biosystems</td>\n",
       "      <td>biotechnology|manufacturing|pharmaceutical</td>\n",
       "      <td>biotechnology|health care|manufacturing|scienc...</td>\n",
       "    </tr>\n",
       "    <tr>\n",
       "      <th>1</th>\n",
       "      <td>a0420895-9b5d-4098-25f0-376dadd054a7</td>\n",
       "      <td>ModernCare</td>\n",
       "      <td>health care|medical|travel</td>\n",
       "      <td>health care|travel and tourism</td>\n",
       "    </tr>\n",
       "    <tr>\n",
       "      <th>2</th>\n",
       "      <td>66d1bf52-3753-4e40-74b0-2d0b86be12e3</td>\n",
       "      <td>Foldax</td>\n",
       "      <td>developer platform|manufacturing|medical device</td>\n",
       "      <td>health care|manufacturing|software</td>\n",
       "    </tr>\n",
       "    <tr>\n",
       "      <th>3</th>\n",
       "      <td>ddaacf7b-1fa1-ea57-75d2-c48bda98de28</td>\n",
       "      <td>Loop Genomics</td>\n",
       "      <td>biotechnology|genetics|information technology|...</td>\n",
       "      <td>biotechnology|health care|information technolo...</td>\n",
       "    </tr>\n",
       "    <tr>\n",
       "      <th>4</th>\n",
       "      <td>a2bc50f6-9fb1-5d37-5a31-84d0b9d697e9</td>\n",
       "      <td>Twentyeight-Seven</td>\n",
       "      <td>biotechnology|developer platform|therapeutics</td>\n",
       "      <td>biotechnology|health care|science and engineer...</td>\n",
       "    </tr>\n",
       "  </tbody>\n",
       "</table>\n",
       "</div>"
      ],
      "text/plain": [
       "                                   uuid            company_name  \\\n",
       "0  4cc6fe8d-3a2b-c327-e008-69024ecb95a2  Rapid Micro Biosystems   \n",
       "1  a0420895-9b5d-4098-25f0-376dadd054a7              ModernCare   \n",
       "2  66d1bf52-3753-4e40-74b0-2d0b86be12e3                  Foldax   \n",
       "3  ddaacf7b-1fa1-ea57-75d2-c48bda98de28           Loop Genomics   \n",
       "4  a2bc50f6-9fb1-5d37-5a31-84d0b9d697e9       Twentyeight-Seven   \n",
       "\n",
       "                                       category_list  \\\n",
       "0         biotechnology|manufacturing|pharmaceutical   \n",
       "1                         health care|medical|travel   \n",
       "2    developer platform|manufacturing|medical device   \n",
       "3  biotechnology|genetics|information technology|...   \n",
       "4      biotechnology|developer platform|therapeutics   \n",
       "\n",
       "                                 category_group_list  \n",
       "0  biotechnology|health care|manufacturing|scienc...  \n",
       "1                     health care|travel and tourism  \n",
       "2                 health care|manufacturing|software  \n",
       "3  biotechnology|health care|information technolo...  \n",
       "4  biotechnology|health care|science and engineer...  "
      ]
     },
     "execution_count": 196,
     "metadata": {},
     "output_type": "execute_result"
    }
   ],
   "source": [
    "df2 = df2.reset_index()\n",
    "df2 = df2.drop(['index'],axis=1)\n",
    "df2.head()"
   ]
  },
  {
   "cell_type": "markdown",
   "id": "57bef082",
   "metadata": {},
   "source": [
    "---"
   ]
  },
  {
   "cell_type": "markdown",
   "id": "612d6f80",
   "metadata": {},
   "source": [
    "### PART 2 BREAK"
   ]
  },
  {
   "cell_type": "code",
   "execution_count": 225,
   "id": "25dd5727",
   "metadata": {},
   "outputs": [],
   "source": [
    "s = ['biotechnology','advertising','financial','thera','clothing','pharma','consult','admin','lifestyle','sustainability','travel','food','professional','transport','media','real','payment','publishing','media','sales','commerce','government','gaming','messaging','education','sport','design','agriculture']\n",
    "d = []\n",
    "for j in range(len(df2)):\n",
    "    a = df2.category_group_list[j]\n",
    "    li = []\n",
    "    try:\n",
    "        for i in s:\n",
    "            pattern = re.compile(r\"^.*\"+i+\"+\")\n",
    "            match = pattern.findall(a)\n",
    "            if len(match)!=0:\n",
    "                li.append(match)\n",
    "\n",
    "        list1 = max(li)\n",
    "        str1 = ''.join(list1)\n",
    "        final = str1.split('|')\n",
    "        d.append(j)\n",
    "    \n",
    "    except:\n",
    "        pass"
   ]
  },
  {
   "cell_type": "code",
   "execution_count": 226,
   "id": "f65bb924",
   "metadata": {},
   "outputs": [
    {
     "data": {
      "text/plain": [
       "4083"
      ]
     },
     "execution_count": 226,
     "metadata": {},
     "output_type": "execute_result"
    }
   ],
   "source": [
    "len(d)"
   ]
  },
  {
   "cell_type": "code",
   "execution_count": 227,
   "id": "951470fa",
   "metadata": {},
   "outputs": [],
   "source": [
    "df3 = df2.loc[d]"
   ]
  },
  {
   "cell_type": "code",
   "execution_count": 228,
   "id": "5f215f24",
   "metadata": {},
   "outputs": [
    {
     "data": {
      "text/html": [
       "<div>\n",
       "<style scoped>\n",
       "    .dataframe tbody tr th:only-of-type {\n",
       "        vertical-align: middle;\n",
       "    }\n",
       "\n",
       "    .dataframe tbody tr th {\n",
       "        vertical-align: top;\n",
       "    }\n",
       "\n",
       "    .dataframe thead th {\n",
       "        text-align: right;\n",
       "    }\n",
       "</style>\n",
       "<table border=\"1\" class=\"dataframe\">\n",
       "  <thead>\n",
       "    <tr style=\"text-align: right;\">\n",
       "      <th></th>\n",
       "      <th>uuid</th>\n",
       "      <th>company_name</th>\n",
       "      <th>category_list</th>\n",
       "      <th>category_group_list</th>\n",
       "    </tr>\n",
       "  </thead>\n",
       "  <tbody>\n",
       "    <tr>\n",
       "      <th>0</th>\n",
       "      <td>4cc6fe8d-3a2b-c327-e008-69024ecb95a2</td>\n",
       "      <td>Rapid Micro Biosystems</td>\n",
       "      <td>biotechnology|manufacturing|pharmaceutical</td>\n",
       "      <td>biotechnology|health care|manufacturing|scienc...</td>\n",
       "    </tr>\n",
       "    <tr>\n",
       "      <th>1</th>\n",
       "      <td>a0420895-9b5d-4098-25f0-376dadd054a7</td>\n",
       "      <td>ModernCare</td>\n",
       "      <td>health care|medical|travel</td>\n",
       "      <td>health care|travel and tourism</td>\n",
       "    </tr>\n",
       "    <tr>\n",
       "      <th>2</th>\n",
       "      <td>ddaacf7b-1fa1-ea57-75d2-c48bda98de28</td>\n",
       "      <td>Loop Genomics</td>\n",
       "      <td>biotechnology|genetics|information technology|...</td>\n",
       "      <td>biotechnology|health care|information technolo...</td>\n",
       "    </tr>\n",
       "    <tr>\n",
       "      <th>3</th>\n",
       "      <td>a2bc50f6-9fb1-5d37-5a31-84d0b9d697e9</td>\n",
       "      <td>Twentyeight-Seven</td>\n",
       "      <td>biotechnology|developer platform|therapeutics</td>\n",
       "      <td>biotechnology|health care|science and engineer...</td>\n",
       "    </tr>\n",
       "    <tr>\n",
       "      <th>4</th>\n",
       "      <td>235cdf32-5fcd-7afa-7334-8f5a7ae7eeb0</td>\n",
       "      <td>EdeniQ</td>\n",
       "      <td>agriculture|biotechnology|fuel</td>\n",
       "      <td>agriculture and farming|biotechnology|energy|s...</td>\n",
       "    </tr>\n",
       "  </tbody>\n",
       "</table>\n",
       "</div>"
      ],
      "text/plain": [
       "                                   uuid            company_name  \\\n",
       "0  4cc6fe8d-3a2b-c327-e008-69024ecb95a2  Rapid Micro Biosystems   \n",
       "1  a0420895-9b5d-4098-25f0-376dadd054a7              ModernCare   \n",
       "2  ddaacf7b-1fa1-ea57-75d2-c48bda98de28           Loop Genomics   \n",
       "3  a2bc50f6-9fb1-5d37-5a31-84d0b9d697e9       Twentyeight-Seven   \n",
       "4  235cdf32-5fcd-7afa-7334-8f5a7ae7eeb0                  EdeniQ   \n",
       "\n",
       "                                       category_list  \\\n",
       "0         biotechnology|manufacturing|pharmaceutical   \n",
       "1                         health care|medical|travel   \n",
       "2  biotechnology|genetics|information technology|...   \n",
       "3      biotechnology|developer platform|therapeutics   \n",
       "4                     agriculture|biotechnology|fuel   \n",
       "\n",
       "                                 category_group_list  \n",
       "0  biotechnology|health care|manufacturing|scienc...  \n",
       "1                     health care|travel and tourism  \n",
       "2  biotechnology|health care|information technolo...  \n",
       "3  biotechnology|health care|science and engineer...  \n",
       "4  agriculture and farming|biotechnology|energy|s...  "
      ]
     },
     "execution_count": 228,
     "metadata": {},
     "output_type": "execute_result"
    }
   ],
   "source": [
    "df3 = df3.reset_index()\n",
    "df3 = df3.drop(['index'],axis=1)\n",
    "df3.head()"
   ]
  },
  {
   "cell_type": "markdown",
   "id": "0a22ae6c",
   "metadata": {},
   "source": [
    "---"
   ]
  },
  {
   "cell_type": "markdown",
   "id": "08a6af8a",
   "metadata": {},
   "source": [
    "### Part 3 break"
   ]
  },
  {
   "cell_type": "code",
   "execution_count": 229,
   "id": "d01363e0",
   "metadata": {},
   "outputs": [],
   "source": [
    "s = ['hsport','tutoring','cosmetic','sms','diabetes','nutrition','dental','medicine','charity','family','wellness','hospital','consumption','women','agency','non profit','enterprise','employment','billing','clinical','trials','navigation','dietary','hospitality','elder','environ','beauty','advert','agriculture','energy','real estate','environ','news','developer','child care','consulting','rehab','nurs','government','food']\n",
    "\n",
    "d = []\n",
    "for j in range(len(df2)):\n",
    "    a = df2.category_list[j]\n",
    "    li = []\n",
    "    try:\n",
    "        for i in s:\n",
    "            pattern = re.compile(r\"^.*\"+i+\"+\")\n",
    "            match = pattern.findall(a)\n",
    "            if len(match)!=0:\n",
    "                li.append(match)\n",
    "\n",
    "        list1 = max(li)\n",
    "        str1 = ''.join(list1)\n",
    "        final = str1.split('|')\n",
    "        d.append(j)\n",
    "    \n",
    "    except:\n",
    "        pass"
   ]
  },
  {
   "cell_type": "code",
   "execution_count": 230,
   "id": "5daf9b4e",
   "metadata": {},
   "outputs": [
    {
     "data": {
      "text/plain": [
       "1351"
      ]
     },
     "execution_count": 230,
     "metadata": {},
     "output_type": "execute_result"
    }
   ],
   "source": [
    "len(d)"
   ]
  },
  {
   "cell_type": "code",
   "execution_count": 231,
   "id": "1844413c",
   "metadata": {},
   "outputs": [],
   "source": [
    "df4 = df2.loc[d]"
   ]
  },
  {
   "cell_type": "code",
   "execution_count": 232,
   "id": "9763a668",
   "metadata": {},
   "outputs": [
    {
     "data": {
      "text/html": [
       "<div>\n",
       "<style scoped>\n",
       "    .dataframe tbody tr th:only-of-type {\n",
       "        vertical-align: middle;\n",
       "    }\n",
       "\n",
       "    .dataframe tbody tr th {\n",
       "        vertical-align: top;\n",
       "    }\n",
       "\n",
       "    .dataframe thead th {\n",
       "        text-align: right;\n",
       "    }\n",
       "</style>\n",
       "<table border=\"1\" class=\"dataframe\">\n",
       "  <thead>\n",
       "    <tr style=\"text-align: right;\">\n",
       "      <th></th>\n",
       "      <th>uuid</th>\n",
       "      <th>company_name</th>\n",
       "      <th>category_list</th>\n",
       "      <th>category_group_list</th>\n",
       "    </tr>\n",
       "  </thead>\n",
       "  <tbody>\n",
       "    <tr>\n",
       "      <th>0</th>\n",
       "      <td>66d1bf52-3753-4e40-74b0-2d0b86be12e3</td>\n",
       "      <td>Foldax</td>\n",
       "      <td>developer platform|manufacturing|medical device</td>\n",
       "      <td>health care|manufacturing|software</td>\n",
       "    </tr>\n",
       "    <tr>\n",
       "      <th>1</th>\n",
       "      <td>a2bc50f6-9fb1-5d37-5a31-84d0b9d697e9</td>\n",
       "      <td>Twentyeight-Seven</td>\n",
       "      <td>biotechnology|developer platform|therapeutics</td>\n",
       "      <td>biotechnology|health care|science and engineer...</td>\n",
       "    </tr>\n",
       "    <tr>\n",
       "      <th>2</th>\n",
       "      <td>eb0fbe3d-caee-48fc-e0c5-0327e3f3e477</td>\n",
       "      <td>KeepLiving</td>\n",
       "      <td>health care|information services|wellness</td>\n",
       "      <td>health care|information technology</td>\n",
       "    </tr>\n",
       "    <tr>\n",
       "      <th>3</th>\n",
       "      <td>9f51a0b6-8cec-6f82-b854-b8df24e0eedf</td>\n",
       "      <td>Inofile</td>\n",
       "      <td>developer platform|health care|information ser...</td>\n",
       "      <td>health care|information technology|software</td>\n",
       "    </tr>\n",
       "    <tr>\n",
       "      <th>4</th>\n",
       "      <td>ab060e9f-e063-ea35-9ca0-f548a35d8fe0</td>\n",
       "      <td>CRESCEL</td>\n",
       "      <td>diabetes|manufacturing|pharmaceutical</td>\n",
       "      <td>health care|manufacturing</td>\n",
       "    </tr>\n",
       "  </tbody>\n",
       "</table>\n",
       "</div>"
      ],
      "text/plain": [
       "                                   uuid       company_name  \\\n",
       "0  66d1bf52-3753-4e40-74b0-2d0b86be12e3             Foldax   \n",
       "1  a2bc50f6-9fb1-5d37-5a31-84d0b9d697e9  Twentyeight-Seven   \n",
       "2  eb0fbe3d-caee-48fc-e0c5-0327e3f3e477         KeepLiving   \n",
       "3  9f51a0b6-8cec-6f82-b854-b8df24e0eedf            Inofile   \n",
       "4  ab060e9f-e063-ea35-9ca0-f548a35d8fe0            CRESCEL   \n",
       "\n",
       "                                       category_list  \\\n",
       "0    developer platform|manufacturing|medical device   \n",
       "1      biotechnology|developer platform|therapeutics   \n",
       "2          health care|information services|wellness   \n",
       "3  developer platform|health care|information ser...   \n",
       "4              diabetes|manufacturing|pharmaceutical   \n",
       "\n",
       "                                 category_group_list  \n",
       "0                 health care|manufacturing|software  \n",
       "1  biotechnology|health care|science and engineer...  \n",
       "2                 health care|information technology  \n",
       "3        health care|information technology|software  \n",
       "4                          health care|manufacturing  "
      ]
     },
     "execution_count": 232,
     "metadata": {},
     "output_type": "execute_result"
    }
   ],
   "source": [
    "df4 = df4.reset_index()\n",
    "df4 = df4.drop(['index'],axis=1)\n",
    "df4.head()"
   ]
  },
  {
   "cell_type": "markdown",
   "id": "34f42a7d",
   "metadata": {},
   "source": [
    "---"
   ]
  },
  {
   "cell_type": "markdown",
   "id": "62bfe1e3",
   "metadata": {},
   "source": [
    "### combining both dfs without duplicates"
   ]
  },
  {
   "cell_type": "code",
   "execution_count": 233,
   "id": "d82d204b",
   "metadata": {},
   "outputs": [],
   "source": [
    "a = pd.concat([df3,df4]).drop_duplicates().reset_index(drop=True)"
   ]
  },
  {
   "cell_type": "code",
   "execution_count": 234,
   "id": "4b284a4c",
   "metadata": {},
   "outputs": [
    {
     "data": {
      "text/plain": [
       "4702"
      ]
     },
     "execution_count": 234,
     "metadata": {},
     "output_type": "execute_result"
    }
   ],
   "source": [
    "len(a)"
   ]
  },
  {
   "cell_type": "code",
   "execution_count": 235,
   "id": "085e6b2d",
   "metadata": {},
   "outputs": [
    {
     "data": {
      "text/html": [
       "<div>\n",
       "<style scoped>\n",
       "    .dataframe tbody tr th:only-of-type {\n",
       "        vertical-align: middle;\n",
       "    }\n",
       "\n",
       "    .dataframe tbody tr th {\n",
       "        vertical-align: top;\n",
       "    }\n",
       "\n",
       "    .dataframe thead th {\n",
       "        text-align: right;\n",
       "    }\n",
       "</style>\n",
       "<table border=\"1\" class=\"dataframe\">\n",
       "  <thead>\n",
       "    <tr style=\"text-align: right;\">\n",
       "      <th></th>\n",
       "      <th>uuid</th>\n",
       "      <th>company_name</th>\n",
       "      <th>category_list</th>\n",
       "      <th>category_group_list</th>\n",
       "    </tr>\n",
       "  </thead>\n",
       "  <tbody>\n",
       "    <tr>\n",
       "      <th>0</th>\n",
       "      <td>4cc6fe8d-3a2b-c327-e008-69024ecb95a2</td>\n",
       "      <td>Rapid Micro Biosystems</td>\n",
       "      <td>biotechnology|manufacturing|pharmaceutical</td>\n",
       "      <td>biotechnology|health care|manufacturing|scienc...</td>\n",
       "    </tr>\n",
       "    <tr>\n",
       "      <th>1</th>\n",
       "      <td>a0420895-9b5d-4098-25f0-376dadd054a7</td>\n",
       "      <td>ModernCare</td>\n",
       "      <td>health care|medical|travel</td>\n",
       "      <td>health care|travel and tourism</td>\n",
       "    </tr>\n",
       "    <tr>\n",
       "      <th>2</th>\n",
       "      <td>ddaacf7b-1fa1-ea57-75d2-c48bda98de28</td>\n",
       "      <td>Loop Genomics</td>\n",
       "      <td>biotechnology|genetics|information technology|...</td>\n",
       "      <td>biotechnology|health care|information technolo...</td>\n",
       "    </tr>\n",
       "    <tr>\n",
       "      <th>3</th>\n",
       "      <td>a2bc50f6-9fb1-5d37-5a31-84d0b9d697e9</td>\n",
       "      <td>Twentyeight-Seven</td>\n",
       "      <td>biotechnology|developer platform|therapeutics</td>\n",
       "      <td>biotechnology|health care|science and engineer...</td>\n",
       "    </tr>\n",
       "    <tr>\n",
       "      <th>4</th>\n",
       "      <td>235cdf32-5fcd-7afa-7334-8f5a7ae7eeb0</td>\n",
       "      <td>EdeniQ</td>\n",
       "      <td>agriculture|biotechnology|fuel</td>\n",
       "      <td>agriculture and farming|biotechnology|energy|s...</td>\n",
       "    </tr>\n",
       "  </tbody>\n",
       "</table>\n",
       "</div>"
      ],
      "text/plain": [
       "                                   uuid            company_name  \\\n",
       "0  4cc6fe8d-3a2b-c327-e008-69024ecb95a2  Rapid Micro Biosystems   \n",
       "1  a0420895-9b5d-4098-25f0-376dadd054a7              ModernCare   \n",
       "2  ddaacf7b-1fa1-ea57-75d2-c48bda98de28           Loop Genomics   \n",
       "3  a2bc50f6-9fb1-5d37-5a31-84d0b9d697e9       Twentyeight-Seven   \n",
       "4  235cdf32-5fcd-7afa-7334-8f5a7ae7eeb0                  EdeniQ   \n",
       "\n",
       "                                       category_list  \\\n",
       "0         biotechnology|manufacturing|pharmaceutical   \n",
       "1                         health care|medical|travel   \n",
       "2  biotechnology|genetics|information technology|...   \n",
       "3      biotechnology|developer platform|therapeutics   \n",
       "4                     agriculture|biotechnology|fuel   \n",
       "\n",
       "                                 category_group_list  \n",
       "0  biotechnology|health care|manufacturing|scienc...  \n",
       "1                     health care|travel and tourism  \n",
       "2  biotechnology|health care|information technolo...  \n",
       "3  biotechnology|health care|science and engineer...  \n",
       "4  agriculture and farming|biotechnology|energy|s...  "
      ]
     },
     "execution_count": 235,
     "metadata": {},
     "output_type": "execute_result"
    }
   ],
   "source": [
    "a.head()"
   ]
  },
  {
   "cell_type": "markdown",
   "id": "3226d23b",
   "metadata": {},
   "source": [
    "### verifying"
   ]
  },
  {
   "cell_type": "code",
   "execution_count": 236,
   "id": "88751658",
   "metadata": {},
   "outputs": [
    {
     "data": {
      "text/plain": [
       "array([906])"
      ]
     },
     "execution_count": 236,
     "metadata": {},
     "output_type": "execute_result"
    }
   ],
   "source": [
    "a[a.uuid=='1108ba19-5761-a120-fb85-fb8a0d0ccaac'].index.values "
   ]
  },
  {
   "cell_type": "markdown",
   "id": "bffe1059",
   "metadata": {},
   "source": [
    "### FULLY CORRECT \n",
    "- matched output\n",
    "- matched data columns\n",
    "- everything is same"
   ]
  },
  {
   "cell_type": "markdown",
   "id": "7d854d6d",
   "metadata": {},
   "source": [
    "---"
   ]
  }
 ],
 "metadata": {
  "kernelspec": {
   "display_name": "Python 3",
   "language": "python",
   "name": "python3"
  },
  "language_info": {
   "codemirror_mode": {
    "name": "ipython",
    "version": 3
   },
   "file_extension": ".py",
   "mimetype": "text/x-python",
   "name": "python",
   "nbconvert_exporter": "python",
   "pygments_lexer": "ipython3",
   "version": "3.9.4"
  }
 },
 "nbformat": 4,
 "nbformat_minor": 5
}
